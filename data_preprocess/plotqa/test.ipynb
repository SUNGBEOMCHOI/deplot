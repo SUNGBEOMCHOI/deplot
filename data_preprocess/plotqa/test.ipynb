{
 "cells": [
  {
   "cell_type": "code",
   "execution_count": 3,
   "metadata": {},
   "outputs": [],
   "source": [
    "import json\n",
    "import pandas as pd"
   ]
  },
  {
   "cell_type": "code",
   "execution_count": 17,
   "metadata": {},
   "outputs": [],
   "source": [
    "with open('/root/PlotQA/data/translated_test/annotations.json', 'r') as file:\n",
    "    data = json.load(file)\n",
    "\n",
    "# data의 구조에 따라 데이터프레임을 생성합니다.\n",
    "# 예를 들어 data가 리스트 형태라면:\n",
    "if isinstance(data, list):\n",
    "    df = pd.DataFrame(data)"
   ]
  },
  {
   "cell_type": "code",
   "execution_count": 18,
   "metadata": {},
   "outputs": [],
   "source": [
    "single_df = df.iloc[7180]"
   ]
  },
  {
   "cell_type": "code",
   "execution_count": 32,
   "metadata": {},
   "outputs": [
    {
     "data": {
      "text/plain": [
       "models                 [{'name': '사망률', 'labels': 'Death rate', 'widt...\n",
       "type                                                    hbar_categorical\n",
       "general_figure_info    {'title': {'text': '1960년 조사에 따른 사망률과 출생률', 'b...\n",
       "image_index                                                         7180\n",
       "Name: 7180, dtype: object"
      ]
     },
     "execution_count": 32,
     "metadata": {},
     "output_type": "execute_result"
    }
   ],
   "source": [
    "single_df"
   ]
  },
  {
   "cell_type": "code",
   "execution_count": 28,
   "metadata": {},
   "outputs": [],
   "source": [
    "rows = []\n",
    "general_figure_info = single_df['general_figure_info']\n",
    "for model in models:\n",
    "    if len(models) == 1:\n",
    "        label = general_figure_info['title']['text']\n",
    "    else:\n",
    "        label = model['name']\n",
    "    x_values = general_figure_info['y_axis']['major_labels']['values']\n",
    "    y_values = model['x']\n",
    "\n",
    "    for x, y in zip(x_values, y_values):\n",
    "        if isinstance(y, float):\n",
    "            if y.is_integer():\n",
    "                y = int(y)  # float 값을 정수로 변환\n",
    "            else:\n",
    "                y = round(y, 3)\n",
    "        if isinstance(x, float):\n",
    "            if x.is_integer():\n",
    "                x = int(x)  # float 값을 정수로 변환\n",
    "            else:\n",
    "                x = round(x, 3) \n",
    "        rows.append({'특성': label, 'X': x, 'Y': y})"
   ]
  },
  {
   "cell_type": "code",
   "execution_count": 28,
   "metadata": {},
   "outputs": [
    {
     "name": "stdout",
     "output_type": "stream",
     "text": [
      "\"특성\",\"고체연료\",\"기체 연료\",\"액체연료\"\n",
      "\"마카오\",11.001,528.048,517.047\n",
      "\"말라위\",172.349,711.398,495.045\n",
      "\"불가리아\",36603.994,77487.377,30960.481\n",
      "\"폴란드\",381210.319,464575.897,56295.784\n",
      "\n"
     ]
    },
    {
     "data": {
      "image/png": "[encoded data removed]",
      "text/plain": [
       "<Figure size 640x480 with 1 Axes>"
      ]
     },
     "metadata": {},
     "output_type": "display_data"
    }
   ],
   "source": [
    "from PIL import Image\n",
    "import matplotlib.pyplot as plt\n",
    "\n",
    "# 이미지 열기\n",
    "idx = 31000\n",
    "image_path = f\"/root/PlotQA/data/translated_test/png/{idx}.png\"\n",
    "csv_path = f\"/root/PlotQA/data/translated_test/csv/{idx}.csv\"\n",
    "with open(csv_path, 'r') as f:\n",
    "    csv = f.read()\n",
    "print(csv)\n",
    "image = Image.open(image_path)\n",
    "# 이미지 보여주기 (matplotlib를 사용)\n",
    "plt.imshow(image)\n",
    "plt.axis('off')  # 축 숨기기\n",
    "plt.show()"
   ]
  },
  {
   "cell_type": "code",
   "execution_count": 15,
   "metadata": {},
   "outputs": [],
   "source": [
    "with open('/root/PlotQA/data/translated_test/csv/7180.csv', 'r') as f:\n",
    "    data = f.read()"
   ]
  },
  {
   "cell_type": "code",
   "execution_count": 16,
   "metadata": {},
   "outputs": [
    {
     "data": {
      "text/plain": [
       "'\"특성\",\"Middle income\",\"North America\",\"OECD members\",\"Other small states\",\"Pacific island small states\",\"Small states\"\\n\"사망률\",20.939,9.347,10.334,20.889,13.151,16.385\\n\"출생률\",35.077,23.972,23.11,42.942,45.504,42.087\\n'"
      ]
     },
     "execution_count": 16,
     "metadata": {},
     "output_type": "execute_result"
    }
   ],
   "source": [
    "data"
   ]
  }
 ],
 "metadata": {
  "kernelspec": {
   "display_name": "base",
   "language": "python",
   "name": "python3"
  },
  "language_info": {
   "codemirror_mode": {
    "name": "ipython",
    "version": 3
   },
   "file_extension": ".py",
   "mimetype": "text/x-python",
   "name": "python",
   "nbconvert_exporter": "python",
   "pygments_lexer": "ipython3",
   "version": "3.10.13"
  }
 },
 "nbformat": 4,
 "nbformat_minor": 2
}
